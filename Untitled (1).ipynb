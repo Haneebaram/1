{
 "cells": [
  {
   "cell_type": "code",
   "execution_count": 6,
   "metadata": {
    "scrolled": false
   },
   "outputs": [
    {
     "name": "stdout",
     "output_type": "stream",
     "text": [
      "1000 ~ 9999 까지(1000과 9999도 계산에 포함)의 네 자리 숫자 가운데에 '10'을 포함하는 숫자의 갯수는?\n"
     ]
    }
   ],
   "source": [
    "print(\"1000 ~ 9999 까지(1000과 9999도 계산에 포함)의 네 자리 숫자 가운데에 '10'을 포함하는 숫자의 갯수는?\")"
   ]
  },
  {
   "cell_type": "code",
   "execution_count": 75,
   "metadata": {},
   "outputs": [
    {
     "name": "stdout",
     "output_type": "stream",
     "text": [
      "279\n"
     ]
    }
   ],
   "source": [
    "a = 0\n",
    "\n",
    "for i in range(1000,10000):\n",
    "    \n",
    "    if '10' in str(i):\n",
    "        a += 1\n",
    "print(a)"
   ]
  },
  {
   "cell_type": "code",
   "execution_count": 68,
   "metadata": {},
   "outputs": [
    {
     "name": "stdout",
     "output_type": "stream",
     "text": [
      "10 ~ 99999 까지(10과 99999도 계산에 포함)의 숫자 가운데에 20의 배수이며 '080'을 포함하는 숫자의 갯수는?\n"
     ]
    }
   ],
   "source": [
    "print(\"10 ~ 99999 까지(10과 99999도 계산에 포함)의 숫자 가운데에 20의 배수이며 '080'을 포함하는 숫자의 갯수는?\")"
   ]
  },
  {
   "cell_type": "code",
   "execution_count": 76,
   "metadata": {},
   "outputs": [
    {
     "name": "stdout",
     "output_type": "stream",
     "text": [
      "1134\n"
     ]
    }
   ],
   "source": [
    "b = 0\n",
    "\n",
    "for i in range(10,1000000):\n",
    "    \n",
    "    if i % 20 == 0 and '080' in str(i):\n",
    "        b += 1\n",
    "    \n",
    "print(b)"
   ]
  },
  {
   "cell_type": "code",
   "execution_count": 82,
   "metadata": {},
   "outputs": [
    {
     "name": "stdout",
     "output_type": "stream",
     "text": [
      "d = {'Hospital':0, 'PostOffice':1, 'Phamacy':2, 'School':3, 'Home':4, 'Convenience':5, 'DepartmentStore':6, 'BeautySalon':7, 'Lotteria':8}는 사전 자료형이며, 각 element의 key는 건물 이름을 의미하고 value는 아래 'map'에서 건물의 위치를 의미한다\n",
      " '철수'는 매일 집에서 09:00에 나와서 정확히 30분마다 인접한 건물로 이동한다고 했을 때, 18:00에 'Hospital'에 있을 확률 p(0.0 <= p <= 1.0)는 얼마인가?\n",
      "'철수'는 30분마다 꼭 인접한 건물로 이동해야하며(같은 건물에 30분을 초과하여 체류할 수 없음) 대각선에 위치한 건물로는 이동할 수 없다고 가정한다.\n"
     ]
    }
   ],
   "source": [
    "print(\"d = {'Hospital':0, 'PostOffice':1, 'Phamacy':2, 'School':3, 'Home':4, 'Convenience':5, 'DepartmentStore':6, 'BeautySalon':7, 'Lotteria':8}는 사전 자료형이며, 각 element의 key는 건물 이름을 의미하고 value는 아래 'map'에서 건물의 위치를 의미한다\")\n",
    "print(\" '철수'는 매일 집에서 09:00에 나와서 정확히 30분마다 인접한 건물로 이동한다고 했을 때, 18:00에 'Hospital'에 있을 확률 p(0.0 <= p <= 1.0)는 얼마인가?\")\n",
    "print(\"'철수'는 30분마다 꼭 인접한 건물로 이동해야하며(같은 건물에 30분을 초과하여 체류할 수 없음) 대각선에 위치한 건물로는 이동할 수 없다고 가정한다.\")\n",
    "\n"
   ]
  },
  {
   "cell_type": "code",
   "execution_count": 98,
   "metadata": {},
   "outputs": [
    {
     "name": "stdout",
     "output_type": "stream",
     "text": [
      "확률 : 23.750000\n"
     ]
    }
   ],
   "source": [
    "import random\n",
    "\n",
    "\n",
    "d = {'Hospital':0, 'PostOffice':1, 'Phamacy':2, 'School':3, 'Home':4, 'Convenience':5, 'DepartmentStore':6, 'BeautySalon':7, 'Lotteria':8}\n",
    "\n",
    "x0=random.choice([1,3])\n",
    "x1=random.choice([0,2,4])\n",
    "x2=random.choice([1,5])\n",
    "x3=random.choice([0,4,6])\n",
    "x4=random.choice([1,3,5,7])\n",
    "x5=random.choice([2,4,8])\n",
    "x6=random.choice([3,7])\n",
    "x7=random.choice([4,6,8])\n",
    "x8=random.choice([5,7])\n",
    "\n",
    "def now(spot):\n",
    "    if spot==0:\n",
    "        return x0\n",
    "    if spot==1:\n",
    "        return x1\n",
    "    if spot==2:\n",
    "        return x2\n",
    "    if spot==3:\n",
    "        return x3\n",
    "    if spot==4:\n",
    "        return x4\n",
    "    if spot==5:\n",
    "        return x5\n",
    "    if spot==6:\n",
    "        return x6\n",
    "    if spot==7:\n",
    "        return x7\n",
    "    if spot==8:\n",
    "        return x8\n",
    "    \n",
    "    \n",
    "R = random.randrange(0, 18)\n",
    "\n",
    "for i in range(R) :\n",
    "    a1 = now(x4)\n",
    "    a2 = now(a1)\n",
    "    a3 = now(a2)\n",
    "    a4 = now(a3)\n",
    "    a5 = now(a4)\n",
    "    a6 = now(a5)\n",
    "    a7 = now(a6)\n",
    "    a8 = now(a7)\n",
    "    a9 = now(a8)\n",
    "    a10 = now(a9)\n",
    "    a11 = now(a10)\n",
    "    a12 = now(a11)\n",
    "    a13 = now(a12)\n",
    "    a14 = now(a13)\n",
    "    a15 = now(a14)\n",
    "    a16 = now(a15)\n",
    "    a17 = now(a16)\n",
    "    a18 = now(a17)\n",
    "    if a18==1:\n",
    "        p=p+1\n",
    "    else:\n",
    "        continue\n",
    "\n",
    "print('확률 : %lf' % ( p / 100))"
   ]
  },
  {
   "cell_type": "code",
   "execution_count": null,
   "metadata": {},
   "outputs": [],
   "source": []
  },
  {
   "cell_type": "code",
   "execution_count": null,
   "metadata": {},
   "outputs": [],
   "source": []
  },
  {
   "cell_type": "code",
   "execution_count": null,
   "metadata": {},
   "outputs": [],
   "source": []
  },
  {
   "cell_type": "code",
   "execution_count": null,
   "metadata": {},
   "outputs": [],
   "source": []
  }
 ],
 "metadata": {
  "kernelspec": {
   "display_name": "Python 3",
   "language": "python",
   "name": "python3"
  },
  "language_info": {
   "codemirror_mode": {
    "name": "ipython",
    "version": 3
   },
   "file_extension": ".py",
   "mimetype": "text/x-python",
   "name": "python",
   "nbconvert_exporter": "python",
   "pygments_lexer": "ipython3",
   "version": "3.6.10"
  }
 },
 "nbformat": 4,
 "nbformat_minor": 4
}
